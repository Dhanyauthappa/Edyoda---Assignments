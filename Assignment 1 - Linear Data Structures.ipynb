{
 "cells": [
  {
   "cell_type": "markdown",
   "id": "35634dd5",
   "metadata": {},
   "source": [
    "### Q1. Write a program to find all pairs of an integer array whose sum is equal to a given number?"
   ]
  },
  {
   "cell_type": "code",
   "execution_count": 1,
   "id": "68d30f4d",
   "metadata": {},
   "outputs": [
    {
     "name": "stdout",
     "output_type": "stream",
     "text": [
      "Enter integer element of an array separated by comma1,2,5,7,9\n",
      "Enter the sum value12\n",
      "[(5, 7)]\n"
     ]
    }
   ],
   "source": [
    "from itertools import combinations\n",
    "\n",
    "def findPairs(lst, K):\n",
    "\n",
    "    return [pair for pair in combinations(lst, 2) if sum(pair) == K]\n",
    "\n",
    "\n",
    "lst=list(map(int,input(\"Enter integer element of an array separated by comma\").split(\",\")))\n",
    "K = int(input(\"Enter the sum value\"))\n",
    "print(findPairs(lst, K))"
   ]
  },
  {
   "cell_type": "markdown",
   "id": "48fddf20",
   "metadata": {},
   "source": [
    "### Q2. Write a program to reverse an array in place? In place means you cannot create a new array. You have to update the original array."
   ]
  },
  {
   "cell_type": "code",
   "execution_count": 2,
   "id": "655b248c",
   "metadata": {},
   "outputs": [
    {
     "name": "stdout",
     "output_type": "stream",
     "text": [
      "Enter element of an array separated by comma1,2,4,6,7,8,10\n",
      "Original array is\n",
      "[1, 2, 4, 6, 7, 8, 10]\n",
      "Reversed array is\n",
      "[10, 8, 7, 6, 4, 2, 1]\n"
     ]
    }
   ],
   "source": [
    "def reverseArray(A):\n",
    "    print( A[::-1])\n",
    "\n",
    "A = list(map(int,input(\"Enter element of an array separated by comma\").split(\",\")))\n",
    "print(\"Original array is\")\n",
    "print(A)\n",
    "print(\"Reversed array is\")\n",
    "reverseArray(A)"
   ]
  },
  {
   "cell_type": "markdown",
   "id": "9d8ea04c",
   "metadata": {},
   "source": [
    "### Q3. Write a program to check if two strings are a rotation of each other?"
   ]
  },
  {
   "cell_type": "code",
   "execution_count": 3,
   "id": "a822b2b8",
   "metadata": {},
   "outputs": [
    {
     "name": "stdout",
     "output_type": "stream",
     "text": [
      "Strings are rotations of each other\n"
     ]
    }
   ],
   "source": [
    "def Rotations(string1, string2):\n",
    "    size1 = len(string1)\n",
    "    size2 = len(string2)\n",
    "    temp = ''\n",
    "\n",
    "    # Check if sizes of two strings are same\n",
    "    if size1 != size2:\n",
    "        return 0\n",
    "    \n",
    "    temp = string1 + string1\n",
    "\n",
    "    if (temp.count(string2)> 0):\n",
    "        return 1\n",
    "    else:\n",
    "        return 0\n",
    "\n",
    "# Driver program to test the above function\n",
    "string1 = \"AACD\"\n",
    "string2 = \"ACDA\"\n",
    "\n",
    "if Rotations(string1, string2):\n",
    "    print(\"Strings are rotations of each other\")\n",
    "else:\n",
    "    print(\"Strings are not rotations of each other\")"
   ]
  },
  {
   "cell_type": "markdown",
   "id": "23b59431",
   "metadata": {},
   "source": [
    "### Q4. Write a program to print the first non-repeated character from a string?"
   ]
  },
  {
   "cell_type": "code",
   "execution_count": 11,
   "id": "aa7498ac",
   "metadata": {},
   "outputs": [
    {
     "name": "stdout",
     "output_type": "stream",
     "text": [
      "N\n"
     ]
    }
   ],
   "source": [
    "from collections import Counter\n",
    "\n",
    "def printNonrepeated(string):\n",
    "    \n",
    "    freq = Counter(string)\n",
    "\n",
    "    for i in string:\n",
    "        if(freq[i] == 1): \n",
    "            print(i)\n",
    "            break\n",
    "\n",
    "string = \"Nice to Meet You\"\n",
    "\n",
    "printNonrepeated(string)"
   ]
  },
  {
   "cell_type": "markdown",
   "id": "4b2685bd",
   "metadata": {},
   "source": [
    "### Q5. Read about the Tower of Hanoi algorithm. Write a program to implement it."
   ]
  },
  {
   "cell_type": "code",
   "execution_count": 14,
   "id": "2d698c6a",
   "metadata": {},
   "outputs": [
    {
     "name": "stdout",
     "output_type": "stream",
     "text": [
      "2\n",
      "Move disk 1 from rod A to rod B\n",
      "Move disk 2 from rod A to rod C\n",
      "Move disk 1 from rod B to rod C\n"
     ]
    }
   ],
   "source": [
    "def towerofhanoi(n, A, C, B):\n",
    "    if n == 0:\n",
    "        return\n",
    "    towerofhanoi(n-1, A, B, C)\n",
    "    print(\"Move disk\", n, \"from rod\", A, \"to rod\", C)\n",
    "    towerofhanoi(n-1, B, C, A)\n",
    "\n",
    "n = int(input())\n",
    "towerofhanoi(n, 'A', 'C', 'B')"
   ]
  },
  {
   "cell_type": "markdown",
   "id": "995f3f0d",
   "metadata": {},
   "source": [
    "### Q6. Read about infix, prefix, and postfix expressions. Write a program to convert postfix to prefix expression."
   ]
  },
  {
   "cell_type": "code",
   "execution_count": 9,
   "id": "99bd2c61",
   "metadata": {},
   "outputs": [
    {
     "name": "stdout",
     "output_type": "stream",
     "text": [
      "Prefix :  +AB-CD\n"
     ]
    }
   ],
   "source": [
    "def isOperator(x):\n",
    "    \n",
    "    if x == \"+\":\n",
    "        return True\n",
    "\n",
    "    if x == \"-\":\n",
    "        return True\n",
    "\n",
    "    if x == \"/\":\n",
    "        return True\n",
    "    \n",
    "    if x == \"*\":\n",
    "        return True\n",
    "\n",
    "    return False\n",
    "\n",
    "# Convert postfix to Prefix expression\n",
    "\n",
    "\n",
    "def postToPre(post_exp):\n",
    "\n",
    "    d = []\n",
    "\n",
    "    # length of expression\n",
    "    length = len(post_exp)\n",
    "\n",
    "    # reading from right to left\n",
    "    for i in range(length):\n",
    "\n",
    "        # check if symbol is operator\n",
    "        if (isOperator(post_exp[i])):\n",
    "\n",
    "            # pop two operands from stack\n",
    "            op1 = d[-1]\n",
    "            d.pop()\n",
    "            op2 = d[-1]\n",
    "            d.pop()\n",
    "\n",
    "            # concat the operands and operator\n",
    "            temp = post_exp[i] + op2 + op1\n",
    "\n",
    "            # Push string temp back to stack\n",
    "            d.append(temp)\n",
    "\n",
    "        # if symbol is an operand\n",
    "        else:\n",
    "\n",
    "            # push the operand to the stack\n",
    "            d.append(post_exp[i])\n",
    "\n",
    "\n",
    "    ans = \"\"\n",
    "    for i in d:\n",
    "        ans += i\n",
    "    return ans\n",
    "\n",
    "\n",
    "# Driver Code\n",
    "if __name__ == \"__main__\":\n",
    "\n",
    "    post_exp = \"AB+CD-\"\n",
    "    \n",
    "    # Function call\n",
    "    print(\"Prefix : \", postToPre(post_exp))"
   ]
  },
  {
   "cell_type": "markdown",
   "id": "e7509d10",
   "metadata": {},
   "source": [
    "### Q7. Write a program to convert prefix expression to infix expression."
   ]
  },
  {
   "cell_type": "code",
   "execution_count": 10,
   "id": "f8351867",
   "metadata": {},
   "outputs": [
    {
     "name": "stdout",
     "output_type": "stream",
     "text": [
      "((A-(B/C))*((D/E)-B))\n"
     ]
    }
   ],
   "source": [
    "def prefixToInfix(prefix):\n",
    "    stack = []\n",
    "\n",
    "    # read prefix in reverse order\n",
    "    i = len(prefix) - 1\n",
    "    while i >= 0:\n",
    "        if not isOperator(prefix[i]):\n",
    "\n",
    "            stack.append(prefix[i])\n",
    "            i -= 1\n",
    "        else:\n",
    "            \n",
    "            # symbol is operator\n",
    "            str = \"(\" + stack.pop() + prefix[i] + stack.pop() + \")\"\n",
    "            stack.append(str)\n",
    "            i -= 1\n",
    "    \n",
    "    return stack.pop()\n",
    "\n",
    "def isOperator(c):\n",
    "    if c == \"*\" or c == \"+\" or c == \"-\" or c == \"/\" or c == \"^\" or c == \"(\" or c == \")\":\n",
    "        return True\n",
    "    else:\n",
    "        return False\n",
    "\n",
    "if __name__==\"__main__\":\n",
    "    str = \"*-A/BC-/DEB\"\n",
    "    print(prefixToInfix(str))"
   ]
  },
  {
   "cell_type": "markdown",
   "id": "5223014f",
   "metadata": {},
   "source": [
    "### Q8. Write a program to check if all the brackets are closed in a given code snippet."
   ]
  },
  {
   "cell_type": "code",
   "execution_count": 17,
   "id": "6bcb479e",
   "metadata": {},
   "outputs": [
    {
     "name": "stdout",
     "output_type": "stream",
     "text": [
      "Not Balanced\n"
     ]
    }
   ],
   "source": [
    "def brackets(x):\n",
    "    d = []\n",
    " \n",
    "    for i in x:\n",
    "        if i in [\"(\", \"{\", \"[\"]:\n",
    "            d.append(i)\n",
    "            \n",
    "        else:\n",
    "            if not d:\n",
    "                return False\n",
    "            temp_char = d.pop()\n",
    "            if temp_char == '(':\n",
    "                if i != \")\":\n",
    "                    return False\n",
    "            if temp_char == '{':\n",
    "                if i != \"}\":\n",
    "                    return False\n",
    "            if temp_char == '[':\n",
    "                if i != \"]\":\n",
    "                    return False\n",
    " \n",
    "    if d:\n",
    "        return False\n",
    "    return True\n",
    "\n",
    "x = \"{()}[(]\"\n",
    "    \n",
    "if brackets(x):\n",
    "    print(\"Balanced\")\n",
    "else:\n",
    "    print(\"Not Balanced\")"
   ]
  },
  {
   "cell_type": "markdown",
   "id": "1ceb4e89",
   "metadata": {},
   "source": [
    "### Q9. Write a program to reverse a stack."
   ]
  },
  {
   "cell_type": "code",
   "execution_count": 18,
   "id": "bddcf91d",
   "metadata": {},
   "outputs": [
    {
     "name": "stdout",
     "output_type": "stream",
     "text": [
      "Original Stack\n",
      "11\n",
      "12\n",
      "13\n",
      "14\n",
      "15\n",
      "Reversed Stack\n",
      "15\n",
      "14\n",
      "13\n",
      "12\n",
      "11\n"
     ]
    }
   ],
   "source": [
    "def reverseastack(stack):\n",
    "    stack = reversed(stack)\n",
    "    return list(stack)\n",
    "stack = [11,12,13,14,15]\n",
    "\n",
    "print(\"Original Stack\", *stack, sep='\\n')\n",
    "print(\"Reversed Stack\", *reverseastack(stack), sep='\\n')"
   ]
  },
  {
   "cell_type": "markdown",
   "id": "d8a1df8c",
   "metadata": {},
   "source": [
    "### Q10. Write a program to find the smallest number using a stack."
   ]
  },
  {
   "cell_type": "code",
   "execution_count": 21,
   "id": "187e96d5",
   "metadata": {},
   "outputs": [
    {
     "data": {
      "text/plain": [
       "-1"
      ]
     },
     "execution_count": 21,
     "metadata": {},
     "output_type": "execute_result"
    }
   ],
   "source": [
    "def minvalue(stack):\n",
    "    x=sorted(stack)\n",
    "    return x[0]\n",
    "    \n",
    "stack=[50,7,4,3,-1]    \n",
    "minvalue(stack)"
   ]
  },
  {
   "cell_type": "code",
   "execution_count": null,
   "id": "3938480f",
   "metadata": {},
   "outputs": [],
   "source": []
  }
 ],
 "metadata": {
  "kernelspec": {
   "display_name": "Python 3 (ipykernel)",
   "language": "python",
   "name": "python3"
  },
  "language_info": {
   "codemirror_mode": {
    "name": "ipython",
    "version": 3
   },
   "file_extension": ".py",
   "mimetype": "text/x-python",
   "name": "python",
   "nbconvert_exporter": "python",
   "pygments_lexer": "ipython3",
   "version": "3.9.12"
  }
 },
 "nbformat": 4,
 "nbformat_minor": 5
}
